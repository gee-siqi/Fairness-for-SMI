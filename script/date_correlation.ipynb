{
 "cells": [
  {
   "cell_type": "code",
   "execution_count": 10,
   "metadata": {
    "collapsed": true,
    "pycharm": {
     "name": "#%%\n"
    }
   },
   "outputs": [],
   "source": [
    "from data_analysis.distribution import plot_distribution, plot_freq_sub\n",
    "from data_analysis.load_data import get_list, process\n",
    "import statsmodels.api as sm\n",
    "import matplotlib.pyplot as plt\n",
    "import pandas as pd"
   ]
  },
  {
   "cell_type": "code",
   "execution_count": 25,
   "outputs": [],
   "source": [
    "cat = ['all','film-animation', 'autos-vehicles', 'music', 'pets-animals', 'sports', 'travel-events', 'gaming',\n",
    "'people-blogs', 'comedy', 'entertainment', 'news-politics', 'howto-style', 'education', 'science-technology', 'shows', 'nonprofits-activism']\n"
   ],
   "metadata": {
    "collapsed": false,
    "pycharm": {
     "name": "#%%\n"
    }
   }
  },
  {
   "cell_type": "code",
   "execution_count": 27,
   "outputs": [],
   "source": [
    "def reg(df, yup = 0.4 *1e7, xup = 200):\n",
    "    x = df[['freq_m']]\n",
    "    y = df['subscribers']\n",
    "    # remove outstanding points\n",
    "    y = y.clip(upper = yup)\n",
    "    x = x.clip(upper = xup)\n",
    "    X = sm.add_constant(x)\n",
    "    model = sm.OLS(y, X).fit()\n",
    "    return model\n"
   ],
   "metadata": {
    "collapsed": false,
    "pycharm": {
     "name": "#%%\n"
    }
   }
  },
  {
   "cell_type": "code",
   "execution_count": 30,
   "outputs": [
    {
     "name": "stdout",
     "output_type": "stream",
     "text": [
      "all CORRELATION:  0.03579960862048384 COEFFICIENT: 4.433786671143025e-12 P-VALUE: 0.024146473935783494\n",
      "film-animation CORRELATION:  0.034015269833378596 COEFFICIENT: 110.47357800789854 P-VALUE: 0.8949850366248073\n",
      "autos-vehicles CORRELATION:  0.06210614891013396 COEFFICIENT: 3230.5035587620728 P-VALUE: 0.01920881443172292\n",
      "music CORRELATION:  0.14883175483920327 COEFFICIENT: 91.2945121072787 P-VALUE: 0.12449595493761462\n",
      "pets-animals CORRELATION:  0.07290498585524113 COEFFICIENT: 4970.744841090151 P-VALUE: 0.002558497651809991\n",
      "sports CORRELATION:  0.1328845409146501 COEFFICIENT: 2898.734802595321 P-VALUE: 2.7173026773417415e-05\n",
      "travel-events CORRELATION:  0.045652940293815704 COEFFICIENT: 3410.1564418706594 P-VALUE: 0.005747622215207005\n",
      "gaming CORRELATION:  0.07663897277041387 COEFFICIENT: 260.25284780318543 P-VALUE: 0.65860775480747\n",
      "people-blogs CORRELATION:  0.09685410968383071 COEFFICIENT: -3.637978807091713e-12 P-VALUE: 3.1168254224090077e-96\n",
      "comedy CORRELATION:  -0.01750111449057978 COEFFICIENT: 2233.4343446081675 P-VALUE: 0.040840618580724866\n",
      "entertainment CORRELATION:  0.0913960857332191 COEFFICIENT: -7.787548383930698e-12 P-VALUE: 4.2729569077828366e-16\n",
      "news-politics CORRELATION:  0.27849143618596356 COEFFICIENT: 3551.146955866104 P-VALUE: 1.5719524406623868e-18\n",
      "howto-style CORRELATION:  0.07913507974918967 COEFFICIENT: 2741.038793777969 P-VALUE: 0.02506454309038191\n",
      "education CORRELATION:  0.02917843506141682 COEFFICIENT: 2146.722606659663 P-VALUE: 0.044360962484315196\n",
      "science-technology CORRELATION:  0.02181881582198475 COEFFICIENT: 4082.7175748514364 P-VALUE: 0.033221592123506706\n",
      "shows CORRELATION:  0.46708138059465953 COEFFICIENT: 14337.31334982542 P-VALUE: 6.580422210092254e-29\n",
      "nonprofits-activism CORRELATION:  0.594882781728009 COEFFICIENT: 3666.653197559938 P-VALUE: 3.7361442651183457e-10\n"
     ]
    }
   ],
   "source": [
    "# save as dataframe for each\n",
    "corr = []\n",
    "coef = []\n",
    "pvalue = []\n",
    "avg_freq = []\n",
    "for cls in cat:\n",
    "    cat_url = f'https://us.youtubers.me/global/{cls}/top-1000-most-subscribed-youtube-channels'\n",
    "    cat_df = get_list(cat_url)\n",
    "    cat_df = process(cat_df)\n",
    "    avg = cat_df['freq_m'].mean()\n",
    "    globals()[f'{cls}_df'] = cat_df\n",
    "    model = reg(cat_df)\n",
    "    coefficient = model.params['freq_m']\n",
    "    p_value = model.pvalues['freq_m']\n",
    "    correlation_coefficient = cat_df['freq_m'].corr(cat_df['subscribers'])\n",
    "    corr.append(correlation_coefficient)\n",
    "    coef.append(coefficient)\n",
    "    pvalue.append(p_value)\n",
    "    avg_freq.append(avg)\n",
    "    print(cls, \"CORRELATION: \", correlation_coefficient, \"COEFFICIENT:\", coefficient, \"P-VALUE:\", p_value)"
   ],
   "metadata": {
    "collapsed": false,
    "pycharm": {
     "name": "#%%\n"
    }
   }
  },
  {
   "cell_type": "code",
   "execution_count": 32,
   "outputs": [],
   "source": [
    "cat_data = {\n",
    "    'Category': cat,\n",
    "    'Correlation': corr,\n",
    "    'Coefficient': coef,\n",
    "    'P-value': pvalue,\n",
    "    'Average frequency': avg_freq,\n",
    "}\n",
    "\n",
    "# Convert the dictionary to a pandas DataFrame\n",
    "df = pd.DataFrame(cat_data)\n",
    "df[['Correlation', 'Coefficient', 'P-value','Average frequency']] = df[['Correlation', 'Coefficient', 'P-value','Average frequency']].apply(lambda x: round(x, 3))"
   ],
   "metadata": {
    "collapsed": false,
    "pycharm": {
     "name": "#%%\n"
    }
   }
  },
  {
   "cell_type": "code",
   "execution_count": 33,
   "outputs": [
    {
     "data": {
      "text/plain": "               Category  Correlation  Coefficient  P-value  Average frequency\n0                   all        0.036        0.000    0.024             77.502\n1        film-animation        0.034      110.474    0.895             18.775\n2        autos-vehicles        0.062     3230.504    0.019             10.323\n3                 music        0.149       91.295    0.124             12.663\n4          pets-animals        0.073     4970.745    0.003              9.702\n5                sports        0.133     2898.735    0.000             36.531\n6         travel-events        0.046     3410.156    0.006             11.651\n7                gaming        0.077      260.253    0.659             18.444\n8          people-blogs        0.097       -0.000    0.000             40.859\n9                comedy       -0.018     2233.434    0.041             17.343\n10        entertainment        0.091       -0.000    0.000             65.972\n11        news-politics        0.278     3551.147    0.000            386.928\n12          howto-style        0.079     2741.039    0.025             14.179\n13            education        0.029     2146.723    0.044             17.273\n14   science-technology        0.022     4082.718    0.033             11.844\n15                shows        0.467    14337.313    0.000             24.415\n16  nonprofits-activism        0.595     3666.653    0.000             19.156",
      "text/html": "<div>\n<style scoped>\n    .dataframe tbody tr th:only-of-type {\n        vertical-align: middle;\n    }\n\n    .dataframe tbody tr th {\n        vertical-align: top;\n    }\n\n    .dataframe thead th {\n        text-align: right;\n    }\n</style>\n<table border=\"1\" class=\"dataframe\">\n  <thead>\n    <tr style=\"text-align: right;\">\n      <th></th>\n      <th>Category</th>\n      <th>Correlation</th>\n      <th>Coefficient</th>\n      <th>P-value</th>\n      <th>Average frequency</th>\n    </tr>\n  </thead>\n  <tbody>\n    <tr>\n      <th>0</th>\n      <td>all</td>\n      <td>0.036</td>\n      <td>0.000</td>\n      <td>0.024</td>\n      <td>77.502</td>\n    </tr>\n    <tr>\n      <th>1</th>\n      <td>film-animation</td>\n      <td>0.034</td>\n      <td>110.474</td>\n      <td>0.895</td>\n      <td>18.775</td>\n    </tr>\n    <tr>\n      <th>2</th>\n      <td>autos-vehicles</td>\n      <td>0.062</td>\n      <td>3230.504</td>\n      <td>0.019</td>\n      <td>10.323</td>\n    </tr>\n    <tr>\n      <th>3</th>\n      <td>music</td>\n      <td>0.149</td>\n      <td>91.295</td>\n      <td>0.124</td>\n      <td>12.663</td>\n    </tr>\n    <tr>\n      <th>4</th>\n      <td>pets-animals</td>\n      <td>0.073</td>\n      <td>4970.745</td>\n      <td>0.003</td>\n      <td>9.702</td>\n    </tr>\n    <tr>\n      <th>5</th>\n      <td>sports</td>\n      <td>0.133</td>\n      <td>2898.735</td>\n      <td>0.000</td>\n      <td>36.531</td>\n    </tr>\n    <tr>\n      <th>6</th>\n      <td>travel-events</td>\n      <td>0.046</td>\n      <td>3410.156</td>\n      <td>0.006</td>\n      <td>11.651</td>\n    </tr>\n    <tr>\n      <th>7</th>\n      <td>gaming</td>\n      <td>0.077</td>\n      <td>260.253</td>\n      <td>0.659</td>\n      <td>18.444</td>\n    </tr>\n    <tr>\n      <th>8</th>\n      <td>people-blogs</td>\n      <td>0.097</td>\n      <td>-0.000</td>\n      <td>0.000</td>\n      <td>40.859</td>\n    </tr>\n    <tr>\n      <th>9</th>\n      <td>comedy</td>\n      <td>-0.018</td>\n      <td>2233.434</td>\n      <td>0.041</td>\n      <td>17.343</td>\n    </tr>\n    <tr>\n      <th>10</th>\n      <td>entertainment</td>\n      <td>0.091</td>\n      <td>-0.000</td>\n      <td>0.000</td>\n      <td>65.972</td>\n    </tr>\n    <tr>\n      <th>11</th>\n      <td>news-politics</td>\n      <td>0.278</td>\n      <td>3551.147</td>\n      <td>0.000</td>\n      <td>386.928</td>\n    </tr>\n    <tr>\n      <th>12</th>\n      <td>howto-style</td>\n      <td>0.079</td>\n      <td>2741.039</td>\n      <td>0.025</td>\n      <td>14.179</td>\n    </tr>\n    <tr>\n      <th>13</th>\n      <td>education</td>\n      <td>0.029</td>\n      <td>2146.723</td>\n      <td>0.044</td>\n      <td>17.273</td>\n    </tr>\n    <tr>\n      <th>14</th>\n      <td>science-technology</td>\n      <td>0.022</td>\n      <td>4082.718</td>\n      <td>0.033</td>\n      <td>11.844</td>\n    </tr>\n    <tr>\n      <th>15</th>\n      <td>shows</td>\n      <td>0.467</td>\n      <td>14337.313</td>\n      <td>0.000</td>\n      <td>24.415</td>\n    </tr>\n    <tr>\n      <th>16</th>\n      <td>nonprofits-activism</td>\n      <td>0.595</td>\n      <td>3666.653</td>\n      <td>0.000</td>\n      <td>19.156</td>\n    </tr>\n  </tbody>\n</table>\n</div>"
     },
     "execution_count": 33,
     "metadata": {},
     "output_type": "execute_result"
    }
   ],
   "source": [
    "df"
   ],
   "metadata": {
    "collapsed": false,
    "pycharm": {
     "name": "#%%\n"
    }
   }
  },
  {
   "cell_type": "code",
   "execution_count": 38,
   "outputs": [],
   "source": [
    "# plot\n",
    "def plot_reg(cat, df, yup = 0.4 *1e7, xup = 200):\n",
    "    x = df[['freq_m']]\n",
    "    y = df['subscribers']\n",
    "    # remove outstanding points\n",
    "    y = y.clip(upper = yup)\n",
    "    x = x.clip(upper = xup)\n",
    "    X = sm.add_constant(x)\n",
    "    model = sm.OLS(y, X).fit()\n",
    "\n",
    "    plt.scatter(x, y, label='Data')\n",
    "    plt.plot(x, model.predict(X), color='red', label='Linear Regression')\n",
    "    plt.xlabel('Frequency (freq_m)')\n",
    "    plt.ylabel('Subscribers')\n",
    "    plt.title(f'Linear Regression: {cat}')\n",
    "    plt.legend()\n",
    "    plt.show()"
   ],
   "metadata": {
    "collapsed": false,
    "pycharm": {
     "name": "#%%\n"
    }
   }
  },
  {
   "cell_type": "code",
   "execution_count": 46,
   "outputs": [],
   "source": [],
   "metadata": {
    "collapsed": false,
    "pycharm": {
     "name": "#%%\n"
    }
   }
  },
  {
   "cell_type": "code",
   "execution_count": null,
   "outputs": [],
   "source": [
    "cat = ['all','film-animation', 'autos-vehicles', 'music', 'pets-animals', 'sports', 'travel-events', 'gaming',\n",
    "'people-blogs', 'comedy', 'entertainment', 'news-politics', 'howto-style', 'education', 'science-technology', 'shows', 'nonprofits-activism']"
   ],
   "metadata": {
    "collapsed": false,
    "pycharm": {
     "name": "#%%\n"
    }
   }
  },
  {
   "cell_type": "code",
   "execution_count": 46,
   "outputs": [
    {
     "data": {
      "text/plain": "<Figure size 640x480 with 1 Axes>",
      "image/png": "[encoded data removed]"
     },
     "metadata": {},
     "output_type": "display_data"
    }
   ],
   "source": [
    "cat = 'nonprofits-activism'\n",
    "desired_df = globals()[f'{cls}_df']\n",
    "plot_reg(cat, desired_df, yup = 1.5 *1e7, xup = 500)"
   ],
   "metadata": {
    "collapsed": false,
    "pycharm": {
     "name": "#%%\n"
    }
   }
  },
  {
   "cell_type": "code",
   "execution_count": 41,
   "outputs": [],
   "source": [],
   "metadata": {
    "collapsed": false,
    "pycharm": {
     "name": "#%%\n"
    }
   }
  },
  {
   "cell_type": "code",
   "execution_count": null,
   "outputs": [],
   "source": [],
   "metadata": {
    "collapsed": false,
    "pycharm": {
     "name": "#%%\n"
    }
   }
  }
 ],
 "metadata": {
  "kernelspec": {
   "display_name": "Python 3",
   "language": "python",
   "name": "python3"
  },
  "language_info": {
   "codemirror_mode": {
    "name": "ipython",
    "version": 2
   },
   "file_extension": ".py",
   "mimetype": "text/x-python",
   "name": "python",
   "nbconvert_exporter": "python",
   "pygments_lexer": "ipython2",
   "version": "2.7.6"
  }
 },
 "nbformat": 4,
 "nbformat_minor": 0
}