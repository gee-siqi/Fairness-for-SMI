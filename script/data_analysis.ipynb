{
 "cells": [
  {
   "cell_type": "code",
   "execution_count": 1,
   "metadata": {
    "collapsed": true,
    "pycharm": {
     "name": "#%%\n"
    }
   },
   "outputs": [],
   "source": [
    "import simu_process.simulation as sim\n",
    "from tools.generate_config import gen_config\n",
    "import pandas as pd\n",
    "import pickle\n",
    "import matplotlib.pyplot as plt\n",
    "import seaborn as sns"
   ]
  },
  {
   "cell_type": "code",
   "execution_count": 2,
   "outputs": [],
   "source": [
    "def simulate_get_output(config_list):\n",
    "    \"\"\"\n",
    "    run simulations and generate config files with different alpha values\n",
    "    @param config_list: list of paths of config files\n",
    "    @return: a list of all output files\n",
    "    \"\"\"\n",
    "    output_files = []\n",
    "    for config in config_list:\n",
    "        print(f'Run the simulations with config file: {config}')\n",
    "        simu = sim.Simulation(config)\n",
    "        simu.run_and_save()\n",
    "        output = simu.output_file\n",
    "        output_files.append(output)\n",
    "    return output_files\n",
    "\n",
    "\n",
    "def concat_results(output_files):\n",
    "    \"\"\"\n",
    "    get results data from output files for further analysis\n",
    "    @param output_files: a list out output files\n",
    "    @return: user_all and cc_all, general results of the files\n",
    "    \"\"\"\n",
    "    u_list = []\n",
    "    cc_list = []\n",
    "    for i in output_files:\n",
    "        # find alpha value\n",
    "        alpha = i[i.find('alpha')+5: i.find('.pkl')]\n",
    "        with open(i, 'rb') as file:\n",
    "            loaded_data = pickle.load(file)\n",
    "            user_df = loaded_data[0]\n",
    "            cc_df = loaded_data[1]\n",
    "            user_df['alpha'] = float(alpha)\n",
    "            cc_df['alpha'] = float(alpha)\n",
    "            u_list.append(user_df)\n",
    "            cc_list.append(cc_df)\n",
    "    user_all = pd.concat(u_list).reset_index(drop=True)\n",
    "    cc_all = pd.concat(cc_list)\n",
    "    return user_all, cc_all"
   ],
   "metadata": {
    "collapsed": false,
    "pycharm": {
     "name": "#%%\n"
    }
   }
  },
  {
   "cell_type": "code",
   "execution_count": 3,
   "outputs": [],
   "source": [
    "def user_searching_proportion(user_all):\n",
    "    \"\"\"\n",
    "    Get the proportion of users stop searching at each step\n",
    "    @param user_all: dataframe of user results after absorbed\n",
    "    @return: dataframe with alpha, step, and proportion of users finish searching\n",
    "    \"\"\"\n",
    "    all_counts = user_all.groupby('alpha')['id'].count()\n",
    "    steps_counts = user_all.groupby(['alpha', 'steps'])['id'].count()\n",
    "    ratios = steps_counts.div(all_counts, level='alpha').reset_index()\n",
    "    ratios['proportion'] = ratios.groupby('alpha')['id'].cumsum()\n",
    "    return ratios\n",
    "\n",
    "def simu_stop_proportion(user_all, step_list):\n",
    "    \"\"\"\n",
    "    get proportion of simulations stop at each step\n",
    "    @param step_list: [1, 10, 20, 50, 200, 900] the threshold of steps\n",
    "    @param user_all: dataframe of user results\n",
    "    @return: dataframe with alpha, step, and proportion of iterations finished at the step\n",
    "    \"\"\"\n",
    "\n",
    "    max_steps = user_all.groupby(['alpha', 'iteration'])['steps'].max().reset_index()\n",
    "\n",
    "    result = []\n",
    "    for step_threshold in step_list:\n",
    "        step_counts = max_steps[max_steps['steps'] <= step_threshold].groupby('alpha')['iteration'].count()\n",
    "        total_iterations = max_steps.groupby('alpha')['iteration'].count()\n",
    "        proportions = step_counts / total_iterations\n",
    "        #\n",
    "        prop_df = pd.DataFrame(proportions).reset_index()\n",
    "        prop_df['threshold'] = step_threshold\n",
    "        result.append(prop_df)\n",
    "\n",
    "    proportion_df = pd.concat(result)\n",
    "    # proportion_df.columns = step_list\n",
    "\n",
    "    # all_counts = max_steps.groupby('alpha')['iteration'].count()\n",
    "    # steps_counts = max_steps.groupby(['alpha', 'steps'])['iteration'].count()\n",
    "    # ratios = steps_counts.div(all_counts, level='alpha').reset_index()\n",
    "    return proportion_df #.reset_index()"
   ],
   "metadata": {
    "collapsed": false,
    "pycharm": {
     "name": "#%%\n"
    }
   }
  },
  {
   "cell_type": "code",
   "execution_count": 4,
   "outputs": [],
   "source": [
    "def cc_fair(cc_all):\n",
    "    \"\"\"\n",
    "    Get the proportion of IF for each quality\n",
    "    @param cc_all:\n",
    "    @return: DataFrame of values of alphas, ids, proportion of IF\n",
    "    \"\"\"\n",
    "    cc_all['rank'] = cc_all.groupby(['iteration', 'alpha'])['subs'].rank(ascending=False)\n",
    "    cc_all['IF'] = cc_all['rank'] <= cc_all['id']\n",
    "    fair_ratio = cc_all.groupby(['alpha', 'id'])['IF'].mean().reset_index()\n",
    "    return fair_ratio\n"
   ],
   "metadata": {
    "collapsed": false,
    "pycharm": {
     "name": "#%%\n"
    }
   }
  },
  {
   "cell_type": "code",
   "execution_count": 169,
   "outputs": [],
   "source": [],
   "metadata": {
    "collapsed": false,
    "pycharm": {
     "name": "#%%\n"
    }
   }
  },
  {
   "cell_type": "code",
   "execution_count": 170,
   "outputs": [],
   "source": [
    "# TODO: choose one iteration results to do the analysis of frequency, quality and subscribers, and with different tolerance, notice usually how many ccs can be followed"
   ],
   "metadata": {
    "collapsed": false,
    "pycharm": {
     "name": "#%%\n"
    }
   }
  },
  {
   "cell_type": "markdown",
   "source": [
    "## Preprocess\n",
    "In this part, we first run the simulations and pre-process the output files of the simulations"
   ],
   "metadata": {
    "collapsed": false,
    "pycharm": {
     "name": "#%% md\n"
    }
   }
  },
  {
   "cell_type": "code",
   "execution_count": null,
   "outputs": [
    {
     "name": "stdout",
     "output_type": "stream",
     "text": [
      "Run the simulations with config file: /Users/gee/PycharmProjects/Fairness-for-SMI/config/configalpha_-50.yaml\n"
     ]
    },
    {
     "name": "stderr",
     "output_type": "stream",
     "text": [
      "Iterations with alpha = -50: 100%|██████████| 100/100 [12:31<00:00,  7.52s/it]\n"
     ]
    },
    {
     "name": "stdout",
     "output_type": "stream",
     "text": [
      "Run the simulations with config file: /Users/gee/PycharmProjects/Fairness-for-SMI/config/configalpha_-10.yaml\n"
     ]
    },
    {
     "name": "stderr",
     "output_type": "stream",
     "text": [
      "Iterations with alpha = -10: 100%|██████████| 100/100 [10:15<00:00,  6.16s/it]\n"
     ]
    },
    {
     "name": "stdout",
     "output_type": "stream",
     "text": [
      "Run the simulations with config file: /Users/gee/PycharmProjects/Fairness-for-SMI/config/configalpha_-5.yaml\n"
     ]
    },
    {
     "name": "stderr",
     "output_type": "stream",
     "text": [
      "Iterations with alpha = -5: 100%|██████████| 100/100 [11:03<00:00,  6.63s/it]\n"
     ]
    },
    {
     "name": "stdout",
     "output_type": "stream",
     "text": [
      "Run the simulations with config file: /Users/gee/PycharmProjects/Fairness-for-SMI/config/configalpha_-2.5.yaml\n"
     ]
    },
    {
     "name": "stderr",
     "output_type": "stream",
     "text": [
      "Iterations with alpha = -2.5: 100%|██████████| 100/100 [11:57<00:00,  7.17s/it]\n"
     ]
    },
    {
     "name": "stdout",
     "output_type": "stream",
     "text": [
      "Run the simulations with config file: /Users/gee/PycharmProjects/Fairness-for-SMI/config/configalpha_-1.yaml\n"
     ]
    },
    {
     "name": "stderr",
     "output_type": "stream",
     "text": [
      "Iterations with alpha = -1: 100%|██████████| 100/100 [12:08<00:00,  7.28s/it]\n"
     ]
    },
    {
     "name": "stdout",
     "output_type": "stream",
     "text": [
      "Run the simulations with config file: /Users/gee/PycharmProjects/Fairness-for-SMI/config/configalpha_-0.75.yaml\n"
     ]
    },
    {
     "name": "stderr",
     "output_type": "stream",
     "text": [
      "Iterations with alpha = -0.75: 100%|██████████| 100/100 [13:58<00:00,  8.39s/it]\n"
     ]
    },
    {
     "name": "stdout",
     "output_type": "stream",
     "text": [
      "Run the simulations with config file: /Users/gee/PycharmProjects/Fairness-for-SMI/config/configalpha_-0.5.yaml\n"
     ]
    },
    {
     "name": "stderr",
     "output_type": "stream",
     "text": [
      "Iterations with alpha = -0.5:  13%|█▎        | 13/100 [01:34<10:35,  7.30s/it]"
     ]
    }
   ],
   "source": [
    "# If already run the simulation, skip this cell\n",
    "base_file = 'config.yaml'\n",
    "value = 'alpha'\n",
    "value_list = [-50, -10, -5, -2.5, -1, -0.75, -0.5, -0.25, 0, 0.25, 0.5, 0.75, 1, 2.5, 5, 10, 50]\n",
    "\"\"\"\n",
    " TODO: extreme PA\n",
    "\"\"\"\n",
    "# get the file names of the config files\n",
    "config_list = gen_config(base_file, value, value_list)\n",
    "# run simulation and get output paths\n",
    "output_files = simulate_get_output(config_list)"
   ],
   "metadata": {
    "collapsed": false,
    "pycharm": {
     "name": "#%%\n",
     "is_executing": true
    }
   }
  },
  {
   "cell_type": "code",
   "execution_count": null,
   "outputs": [],
   "source": [
    "config_list"
   ],
   "metadata": {
    "collapsed": false,
    "pycharm": {
     "name": "#%%\n"
    }
   }
  },
  {
   "cell_type": "code",
   "execution_count": null,
   "outputs": [],
   "source": [
    "# For analysis after finish simulations\n",
    "value_list = [-1000, -50, -10, -5, -2.5, -1, -0.75, -0.5, -0.25, 0, 0.25, 0.5, 0.75, 1, 2.5]\n",
    "output_files = [f'/Users/gee/PycharmProjects/Fairness-for-SMI/_output/iter100alpha{alpha}.pkl' for alpha in value_list]"
   ],
   "metadata": {
    "collapsed": false,
    "pycharm": {
     "name": "#%%\n"
    }
   }
  },
  {
   "cell_type": "code",
   "execution_count": null,
   "outputs": [],
   "source": [
    "user_all, cc_all = concat_results(output_files)\n"
   ],
   "metadata": {
    "collapsed": false,
    "pycharm": {
     "name": "#%%\n"
    }
   }
  },
  {
   "cell_type": "markdown",
   "source": [
    "## Analysis\n",
    "The individual Fairness of the CCs."
   ],
   "metadata": {
    "collapsed": false,
    "pycharm": {
     "name": "#%% md\n"
    }
   }
  },
  {
   "cell_type": "code",
   "execution_count": null,
   "outputs": [],
   "source": [
    "# define the plot function\n",
    "def plot(df, a, b, c):\n",
    "\n",
    "    custom_palette = sns.diverging_palette(255, 1, n=10)\n",
    "    # sns.set_palette(custom_palette)\n",
    "    plt.figure(figsize=(10, 6))\n",
    "    sns.lineplot(data=df, x=b, y=c, hue=a, palette=custom_palette)\n",
    "\n",
    "    plt.xlabel('CCs')\n",
    "    plt.ylabel(c)\n",
    "    plt.title('The proportion of IF for each CC quality')\n",
    "    plt.legend(title=a)\n",
    "    plt.show()"
   ],
   "metadata": {
    "collapsed": false,
    "pycharm": {
     "name": "#%%\n"
    }
   }
  },
  {
   "cell_type": "code",
   "execution_count": null,
   "outputs": [],
   "source": [
    "# generate fair DataFrame\n",
    "simu_time_df = simu_stop_proportion(user_all)\n",
    "cc_fair_df = cc_fair(cc_all)"
   ],
   "metadata": {
    "collapsed": false,
    "pycharm": {
     "name": "#%%\n"
    }
   }
  },
  {
   "cell_type": "code",
   "execution_count": null,
   "outputs": [],
   "source": [
    "# plot the alpha separately\n",
    "alpha_anti = [-1000, -50, -10, -5, -2.5, -1, -0.75, -0.5, -0.25, 0]\n",
    "alpha_UR = [-1, -0.75, -0.5, -0.25, 0, 0.25, 0.5, 0.75, 1]\n",
    "alpha_PA = [0, 0.25, 0.5, 0.75, 1, 2.5]\n",
    "for i in [alpha_anti, alpha_UR, alpha_PA]:\n",
    "    filtered_fair = cc_fair_df[cc_fair_df['alpha'].isin(i)]\n",
    "    plot(filtered_fair, 'alpha', 'id', 'IF')"
   ],
   "metadata": {
    "collapsed": false,
    "pycharm": {
     "name": "#%%\n"
    }
   }
  },
  {
   "cell_type": "markdown",
   "source": [
    "Describe the correlation between frequency, quality and # of followers"
   ],
   "metadata": {
    "collapsed": false,
    "pycharm": {
     "name": "#%% md\n"
    }
   }
  },
  {
   "cell_type": "code",
   "execution_count": null,
   "outputs": [],
   "source": [
    "# choose a sumulation result for the\n",
    "cc_one = cc_all[cc_all['iteration'] == 5]\n",
    "alpha_list = [-1000, -2.5, -1, 0, 1, 2.5]\n",
    "# for i in alpha_list:\n",
    "#     df_i = cc_one[cc_one['alpha'] == i]\n"
   ],
   "metadata": {
    "collapsed": false,
    "pycharm": {
     "name": "#%%\n"
    }
   }
  },
  {
   "cell_type": "code",
   "execution_count": null,
   "outputs": [],
   "source": [
    "# Todo: combine different values\n",
    "\n",
    "#\n",
    "for alpha in alpha_list:\n",
    "    df_i = cc_one[cc_one['alpha'] == alpha]\n",
    "    plt.figure(figsize=(10, 6))  # 设置图像大小\n",
    "    ax = plt.gca()\n",
    "    sns.scatterplot(data=df_i, x='id', y='freq', size='subs', hue='subs', sizes=(20, 200), palette='viridis', ax=ax)\n",
    "\n",
    "    plt.xlabel('ID')  # 设置横坐标标签\n",
    "    plt.ylabel('Frequency')  # 设置纵坐标标签\n",
    "    plt.title(f'Subscribers of CC with alpha of {alpha}')  # 设置标题\n",
    "    plt.legend(title='Subscribers')  # 设置图例标题\n",
    "    plt.show()"
   ],
   "metadata": {
    "collapsed": false,
    "pycharm": {
     "name": "#%%\n"
    }
   }
  },
  {
   "cell_type": "markdown",
   "source": [
    "Plot the converged proportion at different steps"
   ],
   "metadata": {
    "collapsed": false,
    "pycharm": {
     "name": "#%% md\n"
    }
   }
  },
  {
   "cell_type": "code",
   "execution_count": null,
   "outputs": [],
   "source": [
    "step_list = [3, 10, 20, 50, 200]\n",
    "a = simu_stop_proportion(user_all, step_list)\n",
    "# colors = sns.color_palette(\"husl\", n_colors=len(a))\n",
    "colors = sns.diverging_palette(255, 1, n=15)\n",
    "plt.figure(figsize=(10, 6))\n",
    "\n",
    "# 使用 Seaborn 绘制柱状图\n",
    "sns.barplot(x='threshold', y='iteration', data=a, hue='alpha', palette=colors)\n",
    "\n",
    "plt.xlabel('Step Threshold')\n",
    "plt.ylabel('Proportion')\n",
    "plt.title('Proportion of Steps < Threshold for Different Alphas')\n",
    "plt.legend(loc='upper left', title='Alpha')\n",
    "\n",
    "plt.show()"
   ],
   "metadata": {
    "collapsed": false,
    "pycharm": {
     "name": "#%%\n"
    }
   }
  },
  {
   "cell_type": "markdown",
   "source": [
    "Analysis from user side,"
   ],
   "metadata": {
    "collapsed": false,
    "pycharm": {
     "name": "#%% md\n"
    }
   }
  },
  {
   "cell_type": "markdown",
   "source": [],
   "metadata": {
    "collapsed": false,
    "pycharm": {
     "name": "#%% md\n"
    }
   }
  },
  {
   "cell_type": "code",
   "execution_count": null,
   "outputs": [],
   "source": [
    "# since some iterations (PA) need more steps for converged, I slice the step value at 25\n",
    "user_proportion = user_searching_proportion(user_all)\n",
    "b = user_proportion[user_proportion['steps']<25]\n",
    "\n",
    "colors = sns.diverging_palette(255, 1, n=15)\n",
    "plt.figure(figsize=(10, 6))\n",
    "\n",
    "# 使用 Seaborn 绘制柱状图\n",
    "sns.lineplot(x='steps', y='proportion', data=b, hue='alpha', palette=colors)\n",
    "\n",
    "plt.xlabel('Steps')\n",
    "plt.ylabel('Proportion of users finish searching')\n",
    "plt.title('Proportion of users stop searching')\n",
    "plt.legend(title='Alpha')\n",
    "\n",
    "plt.show()"
   ],
   "metadata": {
    "collapsed": false,
    "pycharm": {
     "name": "#%%\n"
    }
   }
  },
  {
   "cell_type": "code",
   "execution_count": null,
   "outputs": [],
   "source": [
    "user_all['satisfaction'] = [100 - min(followed) for followed in user_all['followed']]"
   ],
   "metadata": {
    "collapsed": false,
    "pycharm": {
     "name": "#%%\n"
    }
   }
  },
  {
   "cell_type": "code",
   "execution_count": null,
   "outputs": [],
   "source": [
    "user_all.groupby('alpha')['satisfaction'].mean()"
   ],
   "metadata": {
    "collapsed": false,
    "pycharm": {
     "name": "#%%\n"
    }
   }
  },
  {
   "cell_type": "code",
   "execution_count": null,
   "outputs": [],
   "source": [],
   "metadata": {
    "collapsed": false,
    "pycharm": {
     "name": "#%%\n"
    }
   }
  },
  {
   "cell_type": "code",
   "execution_count": null,
   "outputs": [],
   "source": [],
   "metadata": {
    "collapsed": false,
    "pycharm": {
     "name": "#%%\n"
    }
   }
  },
  {
   "cell_type": "code",
   "execution_count": null,
   "outputs": [],
   "source": [],
   "metadata": {
    "collapsed": false,
    "pycharm": {
     "name": "#%%\n"
    }
   }
  },
  {
   "cell_type": "code",
   "execution_count": null,
   "outputs": [],
   "source": [],
   "metadata": {
    "collapsed": false,
    "pycharm": {
     "name": "#%%\n"
    }
   }
  }
 ],
 "metadata": {
  "kernelspec": {
   "display_name": "Python 3",
   "language": "python",
   "name": "python3"
  },
  "language_info": {
   "codemirror_mode": {
    "name": "ipython",
    "version": 2
   },
   "file_extension": ".py",
   "mimetype": "text/x-python",
   "name": "python",
   "nbconvert_exporter": "python",
   "pygments_lexer": "ipython2",
   "version": "2.7.6"
  }
 },
 "nbformat": 4,
 "nbformat_minor": 0
}